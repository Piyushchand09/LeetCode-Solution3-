{
 "cells": [
  {
   "cell_type": "code",
   "execution_count": null,
   "id": "cdb1623c-2f3e-4604-b764-1b553161721d",
   "metadata": {},
   "outputs": [],
   "source": [
    "# 3. Longest Substring Without Repeating Characters\n",
    "class Solution:\n",
    "    def lengthOfLongestSubstring(self, s: str) -> int:\n",
    "        char_set = set()  \n",
    "        left = 0     \n",
    "        max_length = 0  \n",
    "\n",
    "        for right in range(len(s)): \n",
    "            while s[right] in char_set: \n",
    "                char_set.remove(s[left]) \n",
    "                left += 1\n",
    "            char_set.add(s[right])\n",
    "            max_length = max(max_length, right - left + 1) \n",
    "\n",
    "        return max_length "
   ]
  }
 ],
 "metadata": {
  "kernelspec": {
   "display_name": "Python 3 (ipykernel)",
   "language": "python",
   "name": "python3"
  },
  "language_info": {
   "codemirror_mode": {
    "name": "ipython",
    "version": 3
   },
   "file_extension": ".py",
   "mimetype": "text/x-python",
   "name": "python",
   "nbconvert_exporter": "python",
   "pygments_lexer": "ipython3",
   "version": "3.12.4"
  }
 },
 "nbformat": 4,
 "nbformat_minor": 5
}
